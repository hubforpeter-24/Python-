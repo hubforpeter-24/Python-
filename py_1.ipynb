{
 "cells": [
  {
   "cell_type": "markdown",
   "id": "523d24df-712e-4c74-a485-54a8328ed273",
   "metadata": {},
   "source": [
    "# **Python** "
   ]
  },
  {
   "cell_type": "markdown",
   "id": "1227df3a-1e31-4b1c-96f8-fde251e63e05",
   "metadata": {},
   "source": [
    "#### **What is python ?**"
   ]
  },
  {
   "cell_type": "markdown",
   "id": "b5d72b5d-4dff-4381-95bd-35f9ce489187",
   "metadata": {},
   "source": [
    "Python is a powerful, open source, highlevel & popular programing language. It is defined as object oriented scripting that blends support for OOPs with an overall orientation towards scripting roles. \n",
    "\n",
    "```python"
   ]
  },
  {
   "cell_type": "markdown",
   "id": "8e8c3554-1c83-4701-a23b-0d64e5da0414",
   "metadata": {},
   "source": [
    "#### **Uses of python?**"
   ]
  },
  {
   "cell_type": "markdown",
   "id": "18118360-dc3a-45ed-ae36-fb5fceec7bb9",
   "metadata": {},
   "source": [
    "1. Data Science\n",
    "\n",
    "2. Machine Learning \n",
    "\n",
    "3. Web Development\n",
    "\n",
    "4. Software Development\n",
    "\n",
    "5. Game Development\n",
    "\n",
    "6. CAD Applications\n",
    "\n",
    "7. Business Applications\n",
    "\n",
    "```python"
   ]
  },
  {
   "cell_type": "markdown",
   "id": "4959f5a6-ceef-4e04-a2c9-cc63a7b7ef32",
   "metadata": {},
   "source": [
    "#### **Advantages Of Python?**\n"
   ]
  },
  {
   "cell_type": "markdown",
   "id": "6d420778-085f-4f9b-8a5e-19005c636f3f",
   "metadata": {},
   "source": [
    "1. Multi Purpose\n",
    "\n",
    "2. Productive \n",
    "\n",
    "3. Library Support\n",
    "\n",
    "4. Ease of Use\n",
    "\n",
    "5. Thriving Community\n",
    "\n",
    "6. Portability\n",
    "\n",
    "7. Explorative Analysis\n",
    "\n",
    "8. Big Data Handling\n",
    "\n",
    "```python"
   ]
  },
  {
   "cell_type": "markdown",
   "id": "2cc2dc19-2717-435b-94e1-c31a2adfd2a6",
   "metadata": {},
   "source": [
    "#### **Print Function [print()]:**\n",
    "\n",
    "The print Function pints a specified message on the screen or other standard output devices.\n",
    "The message can also be a object, where the object gets converted to a string before getting written on the screen.\n",
    "For example : print (\"Hello World\")."
   ]
  },
  {
   "cell_type": "code",
   "execution_count": 11,
   "id": "9c7e5dff-83df-4d27-a661-6c4ba0a1be16",
   "metadata": {},
   "outputs": [
    {
     "name": "stdout",
     "output_type": "stream",
     "text": [
      "Hello World\n"
     ]
    }
   ],
   "source": [
    "print (\"Hello World\")\n",
    "##The Print function prints the message \"Hello World\" to the output cell."
   ]
  },
  {
   "cell_type": "markdown",
   "id": "9ab67f65-13e9-493b-b106-f812007c0d8b",
   "metadata": {},
   "source": [
    "#### **Comments in Python:**\n",
    "\n",
    "#### *Single Line Comment:*\n",
    "A single line comment starts with the `#` symbol and continues to the end of the line. It is used for short notes or explanations.\n",
    "\n",
    "##### *single line coment example:*\n"
   ]
  },
  {
   "cell_type": "markdown",
   "id": "693095bb-a706-4fe9-8bc6-32abdb72f6d6",
   "metadata": {},
   "source": [
    "```python\n",
    "# This is a single line comment \n",
    "print(\"Hello World\") # This is also a single line comment\n",
    "```"
   ]
  },
  {
   "cell_type": "markdown",
   "id": "2826b37d-2919-4b14-b820-81e1e2635431",
   "metadata": {},
   "source": [
    "```Python"
   ]
  },
  {
   "cell_type": "markdown",
   "id": "fc96f832-120f-4b4b-a806-4be7b64f2474",
   "metadata": {},
   "source": [
    "#### *Multi line comment*\n",
    "\n",
    "Python doesn't have a specific multi-line comment syntax like some other languages. However, you can use a series of single-line comments or a multi-line string (triple quotes) that is not assigned to any variable. This is often used as a multi-line comment.\n",
    "\n",
    "##### *Multi-line comments example:*\n",
    "```python\n",
    "\"\"\"\n",
    "This is a multi-line comment\n",
    "using triple quotes. Although it is technically a string,\n",
    "it is not assigned to any variable, so it functions as a comment.\n",
    "\"\"\"\n",
    "print(\"Hello, World!\")\n"
   ]
  },
  {
   "cell_type": "markdown",
   "id": "c1f1facb-20ec-497e-9d4a-9949c874e397",
   "metadata": {},
   "source": [
    "```python"
   ]
  },
  {
   "cell_type": "markdown",
   "id": "fbc3bef9-de7f-4439-bff2-d05206895f92",
   "metadata": {},
   "source": [
    "### **Types of errors in Python:**\n",
    "\n"
   ]
  },
  {
   "cell_type": "markdown",
   "id": "a090cf3f-ab81-4080-8969-ef758f5ff0d9",
   "metadata": {},
   "source": [
    "### Syntax Error\n",
    "\n",
    "A **syntax error** occurs when the code doesn’t follow the rules of the Python language. It’s like making a grammatical mistake in a sentence—you’re not speaking the language correctly.\n",
    "\n",
    "**Example:**\n",
    "\n",
    "```python\n",
    "print(\"Hello, World!\"  # Missing closing parenthesis\n",
    "```\n",
    "\n",
    "**Explanation:** In the above code, there’s a syntax error because the closing parenthesis for the `print` function is missing. Python will raise an error message indicating a problem with the syntax.\n",
    "\n",
    "### Semantic Error\n",
    "\n",
    "A **semantic error** occurs when the code is syntactically correct but doesn’t do what you intended. It’s like writing a grammatically correct sentence that still doesn’t make sense or doesn’t achieve what you want.\n",
    "\n",
    "**Example:**\n",
    "\n",
    "```python\n",
    "# Incorrect calculation\n",
    "result = 5 + \"10\"  # Trying to add a number and a string\n",
    "print(result)\n",
    "```\n",
    "\n",
    "**Explanation:** In the above code, there’s no syntax error, but there’s a semantic error because adding a number and a string doesn’t make sense in Python. The program will raise an error when you run it.\n",
    "\n",
    "```python"
   ]
  },
  {
   "cell_type": "markdown",
   "id": "3e40a9f3-31bd-4cce-ba8a-e0eac11e1568",
   "metadata": {},
   "source": [
    "### **Case Sensitivity** \n",
    "**case sensitivity** means that uppercase and lowercase letters are treated differently. This is similar to how \"Computer\" and \"computer\" are considered different.\n",
    "\n",
    "**Variable Names:** `name`, `Name` are all considered different variables.\n",
    "\n",
    "**Example:**\n",
    "\n",
    "```python\n",
    "name = 'Arnold'\n",
    "Name = 'Cambridge'\n",
    "NAME = 'InfoTech'\n",
    "\n",
    "print(name)  # Output: Arnold\n",
    "print(Name)  # Output: Cambridge\n",
    "print(NAME)  # Output: InfoTech\n",
    "```\n"
   ]
  },
  {
   "cell_type": "code",
   "execution_count": 16,
   "id": "e40ed27b-4275-4a57-ae6e-922e8d54f462",
   "metadata": {},
   "outputs": [
    {
     "name": "stdout",
     "output_type": "stream",
     "text": [
      "InfoTech\n"
     ]
    }
   ],
   "source": [
    "name = 'Arnold'\n",
    "Name = 'Cambridge'\n",
    "NAME = 'InfoTech'\n",
    "print(NAME)\n"
   ]
  },
  {
   "cell_type": "markdown",
   "id": "502efd35-e1fe-414d-8f56-e523bd2e4894",
   "metadata": {},
   "source": [
    "### **Naming Conventions in Python:**\n",
    "1. **Variables and Functions**: Use lowercase with words separated by underscores & can include numbers in between (e.g., `myvariable`, `myFunction()`).\n",
    "\n",
    "2. **Classes**: Use CamelCase with no underscores (e.g., `MyClass`, `DataScience`).\n",
    "\n",
    "3. **Constants**: Use uppercase with words separated by underscores (e.g., `MAX_SIZE`, `PI`)."
   ]
  },
  {
   "cell_type": "code",
   "execution_count": 7,
   "id": "a588baf8-b724-454a-b714-d679e3983b4b",
   "metadata": {},
   "outputs": [
    {
     "name": "stdout",
     "output_type": "stream",
     "text": [
      "Arnold\n"
     ]
    }
   ],
   "source": [
    "name_7 = \"Arnold\"\n",
    "print(name_7)"
   ]
  },
  {
   "cell_type": "code",
   "execution_count": 8,
   "id": "073e9c03-a3a3-4a20-8078-aaf209d495e8",
   "metadata": {},
   "outputs": [
    {
     "name": "stdout",
     "output_type": "stream",
     "text": [
      "The Zen of Python, by Tim Peters\n",
      "\n",
      "Beautiful is better than ugly.\n",
      "Explicit is better than implicit.\n",
      "Simple is better than complex.\n",
      "Complex is better than complicated.\n",
      "Flat is better than nested.\n",
      "Sparse is better than dense.\n",
      "Readability counts.\n",
      "Special cases aren't special enough to break the rules.\n",
      "Although practicality beats purity.\n",
      "Errors should never pass silently.\n",
      "Unless explicitly silenced.\n",
      "In the face of ambiguity, refuse the temptation to guess.\n",
      "There should be one-- and preferably only one --obvious way to do it.\n",
      "Although that way may not be obvious at first unless you're Dutch.\n",
      "Now is better than never.\n",
      "Although never is often better than *right* now.\n",
      "If the implementation is hard to explain, it's a bad idea.\n",
      "If the implementation is easy to explain, it may be a good idea.\n",
      "Namespaces are one honking great idea -- let's do more of those!\n"
     ]
    }
   ],
   "source": [
    "import this"
   ]
  },
  {
   "cell_type": "markdown",
   "id": "4756c70c-ba10-4ebb-be84-e83e78373b58",
   "metadata": {},
   "source": [
    "```python"
   ]
  },
  {
   "cell_type": "markdown",
   "id": "f5090233-0d93-44fa-8060-7c23e8f448eb",
   "metadata": {},
   "source": [
    "### Indentation in python\n",
    "\n",
    "**Indentation** in python is the use of space or tabs to define block of code.\n",
    "\n",
    "#### Why does it matter?\n",
    "\n",
    "- **Code Blocks**: \n",
    " It tells python which statement belongs to which block.\n",
    " For Example , the code inside a loop or a function is indented to show its part of the block.\n",
    "\n",
    "**Example:**\n",
    "```python\n",
    "def greet():\n",
    "    print(\"Hello!\") # This is a line of the 'greet' funtion because it's indented\n",
    "\n",
    "greet() # Calls the 'greet' function\n",
    "```\n",
    "\n",
    "**Consistent Indentation:**  All the lines of the code in the same block must be indented the same amount. Mixing spaces and tabs can lead to errors."
   ]
  },
  {
   "cell_type": "markdown",
   "id": "827326c0-5190-47b1-9b23-88d022fe73e2",
   "metadata": {},
   "source": [
    "```python"
   ]
  },
  {
   "cell_type": "markdown",
   "id": "d047c8cd-53cd-4b43-b361-46e80d1bff19",
   "metadata": {},
   "source": [
    "### Datatypes in Python:\n",
    "### **1. Basic Data Types**\n",
    "- **Integer (`int`):** Whole numbers, e.g., `1`, `42`, `-7`\n",
    "- **Float (`float`):** Decimal numbers, e.g., `3.14`, `0.001`, `-2.5`\n",
    "- **String (`str`):** Text, e.g., `\"Hello, world!\"`, `'data science'`\n",
    "- **Booleans (`bool`):** True or False values, e.g., `True`, `False`"
   ]
  },
  {
   "cell_type": "markdown",
   "id": "ad8a6a94-c3c6-4c29-98c9-05bda37d5810",
   "metadata": {},
   "source": [
    "```python"
   ]
  },
  {
   "cell_type": "markdown",
   "id": "ea239222-1962-419a-90c2-e89508229000",
   "metadata": {},
   "source": [
    "### Variable Declaration in Python:\n"
   ]
  },
  {
   "cell_type": "code",
   "execution_count": 5,
   "id": "1e818499-5f4d-4864-a976-5bd83e67f99f",
   "metadata": {},
   "outputs": [],
   "source": [
    "name = \"Arnold\"\n",
    "age = 25\n",
    "student = True\n",
    "height = 5.9"
   ]
  },
  {
   "cell_type": "markdown",
   "id": "5113d5f4-904c-4222-b633-6df954ae2c6c",
   "metadata": {},
   "source": [
    "### Printing The Variables:"
   ]
  },
  {
   "cell_type": "code",
   "execution_count": 6,
   "id": "b8167072-b7d7-4c63-a804-c5ef64f63f11",
   "metadata": {},
   "outputs": [
    {
     "name": "stdout",
     "output_type": "stream",
     "text": [
      "Arnold\n",
      "25\n",
      "True\n",
      "5.9\n"
     ]
    }
   ],
   "source": [
    "print(name)\n",
    "print(age)\n",
    "print(student)\n",
    "print(height)"
   ]
  },
  {
   "cell_type": "markdown",
   "id": "ebbaa9fd-b004-4caf-ae2b-93c5328ac289",
   "metadata": {},
   "source": [
    "### Checking the type of data"
   ]
  },
  {
   "cell_type": "code",
   "execution_count": 15,
   "id": "105dd244-ad8f-4235-b253-2d66a3a61c97",
   "metadata": {},
   "outputs": [
    {
     "data": {
      "text/plain": [
       "str"
      ]
     },
     "execution_count": 15,
     "metadata": {},
     "output_type": "execute_result"
    }
   ],
   "source": [
    "type(name)"
   ]
  },
  {
   "cell_type": "code",
   "execution_count": 12,
   "id": "b901eb27-4b30-4da2-aa40-107325612858",
   "metadata": {},
   "outputs": [
    {
     "data": {
      "text/plain": [
       "int"
      ]
     },
     "execution_count": 12,
     "metadata": {},
     "output_type": "execute_result"
    }
   ],
   "source": [
    "type(age)"
   ]
  },
  {
   "cell_type": "code",
   "execution_count": 13,
   "id": "657d170d-8ef4-4afd-93ed-b64d30257682",
   "metadata": {},
   "outputs": [
    {
     "data": {
      "text/plain": [
       "bool"
      ]
     },
     "execution_count": 13,
     "metadata": {},
     "output_type": "execute_result"
    }
   ],
   "source": [
    "type(student)"
   ]
  },
  {
   "cell_type": "code",
   "execution_count": 14,
   "id": "1e7cdaca-9f4d-454e-88a9-fb2401573d0a",
   "metadata": {},
   "outputs": [
    {
     "data": {
      "text/plain": [
       "float"
      ]
     },
     "execution_count": 14,
     "metadata": {},
     "output_type": "execute_result"
    }
   ],
   "source": [
    "type(height)"
   ]
  },
  {
   "cell_type": "markdown",
   "id": "88eeafb2-3548-4236-9389-7776436b0ccb",
   "metadata": {},
   "source": [
    "### Current Version of Python?\n",
    "\n",
    "As of April 2024, the stable version of python is 3.12, and its the only version that recieves active support.\n",
    "Python 3.8 is the oldest version that still receives security support, but its no longer receiving actie support.\n",
    "The latest version of python is the 3.13 version released in the month of October 2024.\n"
   ]
  },
  {
   "cell_type": "markdown",
   "id": "074fe75f-38b0-4951-9274-ab7294c076e4",
   "metadata": {},
   "source": [
    "________________________________________________________________________________________________________________"
   ]
  }
 ],
 "metadata": {
  "kernelspec": {
   "display_name": "Python 3 (ipykernel)",
   "language": "python",
   "name": "python3"
  },
  "language_info": {
   "codemirror_mode": {
    "name": "ipython",
    "version": 3
   },
   "file_extension": ".py",
   "mimetype": "text/x-python",
   "name": "python",
   "nbconvert_exporter": "python",
   "pygments_lexer": "ipython3",
   "version": "3.12.7"
  }
 },
 "nbformat": 4,
 "nbformat_minor": 5
}
